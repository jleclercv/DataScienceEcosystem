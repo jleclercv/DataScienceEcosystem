{
 "cells": [
  {
   "cell_type": "markdown",
   "id": "7392dc83-ca12-4738-8887-275593a06771",
   "metadata": {},
   "source": [
    "# Data Science Tools and Ecosystem"
   ]
  },
  {
   "cell_type": "markdown",
   "id": "90fbb21d-e21e-46a2-8eab-49c5ef1673d3",
   "metadata": {},
   "source": [
    "This Jupyter notebook corresponds to a summary of what was learned during the course."
   ]
  },
  {
   "cell_type": "markdown",
   "id": "5ed5538b-d4e1-4bf6-9115-ff30aadaed06",
   "metadata": {},
   "source": [
    "**The objetives of this notebook is to present:**\n",
    "* List of Languages used in Data Science\n",
    "* List of Data science Libraries\n",
    "* Table of Tools for Data Science\n",
    "* Simple Arithmetic operations in Python"
   ]
  },
  {
   "cell_type": "markdown",
   "id": "81f36b40-d3d7-419b-9e21-07ac027ec07d",
   "metadata": {},
   "source": [
    "The following corresponds to a list of the most used languages ​​in data science:\n",
    "1. Python\n",
    "2. R\n",
    "3. MATLAB\n",
    "4. Octave\n",
    "5. Java\n",
    "6. Julia"
   ]
  },
  {
   "cell_type": "markdown",
   "id": "4dd3abc4-72e6-4e2e-ad5e-15703316268e",
   "metadata": {},
   "source": [
    "The following corresponds to a list of the most used data science libraries:\n",
    "1. NumPy\n",
    "2. Pandas\n",
    "3. Matplotlib\n",
    "4. Scikit-Learn\n",
    "5. TensorFlow\n",
    "6. PySpark"
   ]
  },
  {
   "cell_type": "markdown",
   "id": "a53d42d9-9a0d-486a-beb1-4ff72b8a8bf8",
   "metadata": {},
   "source": [
    "This table lists the main tools for data science:\n",
    "|Data Science Tools|\n",
    "|------------------|\n",
    "|Rstudio|\n",
    "|Spyder|\n",
    "|Apache Spark|\n"
   ]
  },
  {
   "cell_type": "markdown",
   "id": "8eb8dc2f-290d-416f-9755-ef841d27ab3b",
   "metadata": {},
   "source": [
    "### On next lines, you can see some examples of arithmetic expressions in Python:"
   ]
  },
  {
   "cell_type": "code",
   "execution_count": 38,
   "id": "c5bc076a-9dd5-4c12-8c49-f228f1d2943b",
   "metadata": {},
   "outputs": [
    {
     "name": "stdout",
     "output_type": "stream",
     "text": [
      "6\n",
      "1176\n",
      "360\n",
      "40.666666666666664\n"
     ]
    }
   ],
   "source": [
    "a= 3+3\n",
    "b= 1299-123\n",
    "c= 45*8\n",
    "d= 122/3\n",
    "print(a)\n",
    "print(b)\n",
    "print(c)\n",
    "print(d)"
   ]
  },
  {
   "cell_type": "code",
   "execution_count": 40,
   "id": "5453a434-1596-47ff-b11d-1f30212ec09d",
   "metadata": {},
   "outputs": [
    {
     "name": "stdout",
     "output_type": "stream",
     "text": [
      "17\n"
     ]
    }
   ],
   "source": [
    "# This code is a simple arithmetic expression where first multiply and then add integers\n",
    "e= (3*4)+5\n",
    "print(e)"
   ]
  },
  {
   "cell_type": "code",
   "execution_count": 44,
   "id": "342ac5e2-ba4c-4a9e-8d9d-6d9bee0bd520",
   "metadata": {},
   "outputs": [
    {
     "name": "stdout",
     "output_type": "stream",
     "text": [
      "3.3333333333333335\n"
     ]
    }
   ],
   "source": [
    "# This code will convert 200 minutes into hours. This simple arithmetic operacion consist in divide 200 by 60\n",
    "f= 200/60\n",
    "print(f)"
   ]
  },
  {
   "cell_type": "markdown",
   "id": "5ac8b760-2795-4e64-8436-a5472b027fc2",
   "metadata": {},
   "source": [
    "## Author\n",
    "Jean Leclerc"
   ]
  },
  {
   "cell_type": "code",
   "execution_count": null,
   "id": "0ed1bd13-f71e-4c43-8164-54fc558e280c",
   "metadata": {},
   "outputs": [],
   "source": []
  }
 ],
 "metadata": {
  "kernelspec": {
   "display_name": "Python 3 (ipykernel)",
   "language": "python",
   "name": "python3"
  },
  "language_info": {
   "codemirror_mode": {
    "name": "ipython",
    "version": 3
   },
   "file_extension": ".py",
   "mimetype": "text/x-python",
   "name": "python",
   "nbconvert_exporter": "python",
   "pygments_lexer": "ipython3",
   "version": "3.12.4"
  }
 },
 "nbformat": 4,
 "nbformat_minor": 5
}
